{
 "cells": [
  {
   "cell_type": "code",
   "execution_count": 1,
   "metadata": {},
   "outputs": [
    {
     "name": "stdout",
     "output_type": "stream",
     "text": [
      "hello world\n"
     ]
    }
   ],
   "source": [
    "print (\"hello world\")"
   ]
  },
  {
   "cell_type": "code",
   "execution_count": 3,
   "metadata": {},
   "outputs": [
    {
     "name": "stdout",
     "output_type": "stream",
     "text": [
      "30\n"
     ]
    }
   ],
   "source": [
    "a = 5\n",
    "b = 6\n",
    "print (a*b)"
   ]
  },
  {
   "cell_type": "markdown",
   "metadata": {},
   "source": [
    "# 1. Sintaks dasar\n",
    "print adalah sintaks untuk mengoutputkan operasi. untuk eksekusi bisa menggunakan shift + enter\n"
   ]
  },
  {
   "cell_type": "code",
   "execution_count": 9,
   "metadata": {},
   "outputs": [
    {
     "name": "stdout",
     "output_type": "stream",
     "text": [
      "Ahmad Saifudin\n"
     ]
    }
   ],
   "source": [
    "nama = \"Ahmad Saifudin\"\n",
    "print (nama)"
   ]
  },
  {
   "cell_type": "code",
   "execution_count": 5,
   "metadata": {},
   "outputs": [
    {
     "name": "stdout",
     "output_type": "stream",
     "text": [
      "sama\n",
      "sama\n",
      "sama\n"
     ]
    }
   ],
   "source": [
    "x = y = z = \"sama\"\n",
    "print (x)\n",
    "print (y)\n",
    "print (z)"
   ]
  },
  {
   "cell_type": "markdown",
   "metadata": {},
   "source": [
    "# 2. variable\n",
    "hanya sementara tersimpan dan bisa di replace dengan istilah lain\n"
   ]
  },
  {
   "cell_type": "markdown",
   "metadata": {},
   "source": [
    "# 3. numbers\n",
    "-integer : angka tanpa koma\n",
    "-Float : angka dengan koma"
   ]
  },
  {
   "cell_type": "code",
   "execution_count": 10,
   "metadata": {},
   "outputs": [
    {
     "name": "stdout",
     "output_type": "stream",
     "text": [
      "5 mempunyai tipe <class 'int'>\n",
      "5.0 mempunyai tipe <class 'float'>\n"
     ]
    }
   ],
   "source": [
    "a = 5\n",
    "print (a, \"mempunyai tipe\", type (a))\n",
    "a = 5.0\n",
    "print (a, \"mempunyai tipe\", type (a))"
   ]
  },
  {
   "cell_type": "markdown",
   "metadata": {},
   "source": [
    "# 4. Boolean\n",
    "benar atau salah"
   ]
  },
  {
   "cell_type": "code",
   "execution_count": 11,
   "metadata": {},
   "outputs": [
    {
     "name": "stdout",
     "output_type": "stream",
     "text": [
      "False mempunyai tipe <class 'bool'>\n",
      "True mempunyai tipe <class 'bool'>\n"
     ]
    }
   ],
   "source": [
    "a = 5>6\n",
    "print (a, \"mempunyai tipe\", type (a))\n",
    "a = 5<6\n",
    "print (a, \"mempunyai tipe\", type (a))"
   ]
  },
  {
   "cell_type": "markdown",
   "metadata": {},
   "source": [
    "# 5. string\n",
    "kumpulan karakter (seperti pembuatan nama vrable sebelumnya)"
   ]
  },
  {
   "cell_type": "code",
   "execution_count": 15,
   "metadata": {},
   "outputs": [
    {
     "name": "stdout",
     "output_type": "stream",
     "text": [
      "81\n"
     ]
    }
   ],
   "source": [
    "x = 4\n",
    "y = 5\n",
    "print ((x+y)*(x+y))"
   ]
  },
  {
   "cell_type": "markdown",
   "metadata": {},
   "source": [
    "# 6. operator assignment dan updating\n",
    "pemberian nilai"
   ]
  },
  {
   "cell_type": "code",
   "execution_count": 34,
   "metadata": {},
   "outputs": [
    {
     "name": "stdout",
     "output_type": "stream",
     "text": [
      "3786000.0\n"
     ]
    }
   ],
   "source": [
    "harga_buku = 100000\n",
    "diskon = 40.0\n",
    "ongkir_pertama = 9000\n",
    "ongkir_kedua = 3000\n",
    "jumlah_buku = 60\n",
    "\n",
    "\n",
    "harga_setelah_diskon = harga_buku * (100-diskon)/100\n",
    "harga_ongkir = ongkir_pertama + ongkir_kedua * (jumlah_buku-1)\n",
    "harga_total = harga_setelah_diskon * jumlah_buku + harga_ongkir\n",
    "\n",
    "print (harga_total)\n"
   ]
  },
  {
   "cell_type": "markdown",
   "metadata": {},
   "source": [
    "# 7. operator perbandingan dan logika (percampuran)\n",
    "x==y --> sama dengan\n",
    "!= --> tidak sama dengan\n",
    ">= --> lebih dari sama dengan\n",
    "<= --> kurang dari samadengan\n",
    "\n",
    "x and y = true (jika x = true, y = true) jika berbeda maka false\n",
    "x or y = true (jika salah satu salah atau bener, maka jawabannya true\n",
    "not x = y"
   ]
  },
  {
   "cell_type": "code",
   "execution_count": 57,
   "metadata": {},
   "outputs": [
    {
     "name": "stdout",
     "output_type": "stream",
     "text": [
      "anda masuk di waiting list, selamat menunggu\n",
      "program selesai\n"
     ]
    }
   ],
   "source": [
    "nilai = 80\n",
    "if nilai>=90:\n",
    "    print (\"lulus\")\n",
    "    print (\"selamat\")\n",
    "elif nilai>=80: \n",
    "    print (\"anda masuk di waiting list, selamat menunggu\")\n",
    "else:\n",
    "    print (\"maaf anda belum berhasil, silahkan coba lagi jika ada kesempatan\")\n",
    "print (\"program selesai\")\n",
    "    "
   ]
  },
  {
   "cell_type": "code",
   "execution_count": 66,
   "metadata": {},
   "outputs": [
    {
     "name": "stdout",
     "output_type": "stream",
     "text": [
      "maaf, anda belum berhak mendapatkan kesempatan karena belum cukup umur\n",
      "program selesai\n"
     ]
    }
   ],
   "source": [
    "# selanjutnya jika ada percabangan pada if\n",
    "nilai = \n",
    "umur = 16\n",
    "\n",
    "if nilai>=90:\n",
    "    if umur>=17:\n",
    "        print (\"selamat anda lulus\")\n",
    "    else:\n",
    "        print (\"maaf, anda belum berhak mendapatkan kesempatan karena belum cukup umur\")\n",
    "else:\n",
    "    print (\"maaf, anda belum berhasil karena nilai belum cukup\")\n",
    "    \n",
    "print (\"program selesai\")\n",
    "        "
   ]
  },
  {
   "cell_type": "code",
   "execution_count": null,
   "metadata": {},
   "outputs": [],
   "source": []
  }
 ],
 "metadata": {
  "kernelspec": {
   "display_name": "Python 3",
   "language": "python",
   "name": "python3"
  },
  "language_info": {
   "codemirror_mode": {
    "name": "ipython",
    "version": 3
   },
   "file_extension": ".py",
   "mimetype": "text/x-python",
   "name": "python",
   "nbconvert_exporter": "python",
   "pygments_lexer": "ipython3",
   "version": "3.7.0"
  }
 },
 "nbformat": 4,
 "nbformat_minor": 2
}
