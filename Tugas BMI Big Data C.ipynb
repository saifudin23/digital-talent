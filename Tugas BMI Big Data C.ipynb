{
 "cells": [
  {
   "cell_type": "code",
   "execution_count": 6,
   "metadata": {},
   "outputs": [
    {
     "name": "stdout",
     "output_type": "stream",
     "text": [
      "your height is 168\n",
      "your weight is 82\n",
      "your bmi is 29.053287981859416\n",
      "your category is overweight\n"
     ]
    }
   ],
   "source": [
    "#ahmad saifudin\n",
    "#Big Data C\n",
    "\n",
    "height = 168\n",
    "weight = 82\n",
    "bmi = weight / (height/100) **2\n",
    "category = \"none\"\n",
    "\n",
    "if bmi < 15:\n",
    "    category = \"Very severely underweight\"\n",
    "elif bmi >= 15 and bmi < 16:\n",
    "    category = \"severaly underweight\"\n",
    "elif bmi >= 16 and bmi < 18.5:\n",
    "    category = \"underweight\"\n",
    "elif bmi >= 18.5 and bmi < 25:\n",
    "    category = \"normal (healhty weight)\"\n",
    "elif bmi >= 25 and bmi < 30:\n",
    "    category = \"overweight\"\n",
    "elif bmi >= 30 and bmi < 35:\n",
    "    category = \"moderately obese\"\n",
    "elif bmi >= 35 and bmi < 40:\n",
    "    category = \"severaly obese\"\n",
    "else:\n",
    "    category = \"very severaly obese\"\n",
    "    \n",
    "print (\"your height is\", height)\n",
    "print (\"your weight is\", weight)\n",
    "print (\"your bmi is\", bmi)\n",
    "print (\"your category is\", category)\n"
   ]
  },
  {
   "cell_type": "code",
   "execution_count": null,
   "metadata": {},
   "outputs": [],
   "source": []
  }
 ],
 "metadata": {
  "kernelspec": {
   "display_name": "Python 3",
   "language": "python",
   "name": "python3"
  },
  "language_info": {
   "codemirror_mode": {
    "name": "ipython",
    "version": 3
   },
   "file_extension": ".py",
   "mimetype": "text/x-python",
   "name": "python",
   "nbconvert_exporter": "python",
   "pygments_lexer": "ipython3",
   "version": "3.7.0"
  }
 },
 "nbformat": 4,
 "nbformat_minor": 2
}
